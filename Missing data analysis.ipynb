{
 "cells": [
  {
   "cell_type": "markdown",
   "metadata": {},
   "source": [
    "# Missing Data Analysis"
   ]
  },
  {
   "cell_type": "markdown",
   "metadata": {},
   "source": [
    "### Loading necessary packages & data"
   ]
  },
  {
   "cell_type": "code",
   "execution_count": 1,
   "metadata": {},
   "outputs": [],
   "source": [
    "import pandas as pd\n",
    "import numpy as np\n",
    "import statsmodels.api as sm\n",
    "\n",
    "data_full = pd.read_excel(r\"...\")"
   ]
  },
  {
   "cell_type": "markdown",
   "metadata": {},
   "source": [
    "### Data MCAR: Little's test"
   ]
  },
  {
   "cell_type": "code",
   "execution_count": null,
   "metadata": {},
   "outputs": [],
   "source": [
    "import pandas as pd\n",
    "import numpy as np\n",
    "from pyampute.exploration.mcar_statistical_tests import MCARTest\n",
    "\n",
    "data = pd.read_excel(r\"Data\")\n",
    "mt = MCARTest(method=\"little\")\n",
    "print(mt.little_mcar_test(data))"
   ]
  },
  {
   "cell_type": "markdown",
   "metadata": {},
   "source": [
    "### Association of missingnes in EQ-5D with observed variables"
   ]
  },
  {
   "cell_type": "code",
   "execution_count": null,
   "metadata": {},
   "outputs": [],
   "source": [
    "data_full['B_Index_missing'] = data_full['B_Index'].isnull().astype(int)\n",
    "df_complete_KPSAGE = data_full.dropna(subset=['KPS'])\n",
    "print(f\"Original data: {len(data_full)} rows\")\n",
    "print(f\"Filtered data: {len(df_complete_KPSAGE)} rows\")\n",
    "\n",
    "X = df_complete_KPSAGE[[\"Age\", \"Gender\", \"CCI_YN\", \"KPS\", \"Katagiri_Group\", \"Tumor C-level\", \"Tumor T-level\", \"Tumor L-level\", \"Tumor S-level\", \"Visceral\", \"Brain\"]]\n",
    "X = sm.add_constant(X)\n",
    "y = df_complete_KPSAGE['B_Index_missing']\n",
    "\n",
    "# Fit logistic regression model\n",
    "model = sm.Logit(y, X).fit()\n",
    "\n",
    "# Print summary (includes coefficients, p-values, etc.)\n",
    "print(model.summary())"
   ]
  },
  {
   "cell_type": "code",
   "execution_count": null,
   "metadata": {},
   "outputs": [],
   "source": [
    "df_complete_KPSAGE['M3_Index_missing'] = df_complete_KPSAGE['M3_Index'].isnull().astype(int)\n",
    "\n",
    "X = df_complete_KPSAGE[[\"Age\", \"Gender\", \"CCI_YN\", \"KPS\", \"Katagiri_Group\",\"Tumor C-level\", \"Tumor T-level\", \"Tumor L-level\", \"Tumor S-level\", \"Visceral\", \"Brain\"]]\n",
    "X = sm.add_constant(X)\n",
    "y = df_complete_KPSAGE['M3_Index_missing']\n",
    "\n",
    "# Fit logistic regression model\n",
    "model = sm.Logit(y, X).fit()\n",
    "\n",
    "# Print summary (includes coefficients, p-values, etc.)\n",
    "print(model.summary())"
   ]
  },
  {
   "cell_type": "markdown",
   "metadata": {},
   "source": [
    "### Sensitivity analysis: complete-case results vs. imputed results"
   ]
  },
  {
   "cell_type": "code",
   "execution_count": 36,
   "metadata": {},
   "outputs": [],
   "source": [
    "from sklearn.ensemble import RandomForestClassifier\n",
    "from sklearn.metrics import roc_auc_score, brier_score_loss, make_scorer\n",
    "from sklearn.model_selection import cross_val_score\n",
    "\n",
    "data_imputed = pd.read_excel(r\"...\")\n",
    "data_imputed[\"MCID_Result\"] = (data_imputed[\"M3_Index\"] - data_imputed[\"B_Index\"] >= 0.08).astype(int)\n",
    "\n",
    "data_B = data_full[data_full['B_Index_missing'] == 0]\n",
    "data_M3 = data_full[data_full['M3_Index_missing'] == 0]\n",
    "\n",
    "X = [\"B_Index\", \"Katagiri_Group\", \"KPS\", \"Brain\", \"Opioid\"]\n",
    "y = \"MCID_Result\"\n",
    "\n",
    "# Define custom scorers for Brier score and AUC\n",
    "brier_scorer = make_scorer(brier_score_loss, greater_is_better=False, needs_proba=True)\n",
    "auc_scorer = make_scorer(roc_auc_score, needs_proba=True)"
   ]
  },
  {
   "cell_type": "markdown",
   "metadata": {},
   "source": [
    "### Performance of full (imputed) dataset"
   ]
  },
  {
   "cell_type": "code",
   "execution_count": null,
   "metadata": {},
   "outputs": [],
   "source": [
    "# Train a random forest on imputed data\n",
    "model_imputed = RandomForestClassifier(random_state=0)\n",
    "\n",
    "auc_scores = cross_val_score(model_imputed, data_imputed[X], data_imputed[y], scoring=auc_scorer, cv=5)\n",
    "brier_scores = cross_val_score(model_imputed, data_imputed[X], data_imputed[y], scoring=brier_scorer, cv=5)\n",
    "model_imputed.fit(data_imputed[X], data_imputed[y])\n",
    "\n",
    "# Results\n",
    "print(\"Imputed Data Feature Importances:\", model_imputed.feature_importances_)\n",
    "print(\"Cross-Validated AUC:\", np.mean(auc_scores))\n",
    "print(\"Cross-Validated Brier Score:\", -np.mean(brier_scores))  "
   ]
  },
  {
   "cell_type": "markdown",
   "metadata": {},
   "source": [
    "### Performance on complete baseline EQ-5D-3L"
   ]
  },
  {
   "cell_type": "code",
   "execution_count": null,
   "metadata": {},
   "outputs": [],
   "source": [
    "from sklearn.ensemble import RandomForestRegressor\n",
    "from sklearn.experimental import enable_iterative_imputer\n",
    "from sklearn.impute import IterativeImputer\n",
    "\n",
    "# Initialize MissForest imputer\n",
    "missforest_imputer = IterativeImputer(estimator=RandomForestRegressor(n_estimators=100, random_state=0), \n",
    "                                      max_iter=10, random_state=0)\n",
    "\n",
    "# Impute missing values\n",
    "B_imputed = pd.DataFrame(missforest_imputer.fit_transform(data_B[[\"B_Index\", \"Katagiri_Group\", \"KPS\", \"Brain\", \"Opioid\", \"M3_Index\"]]), columns=[\"B_Index\", \"Katagiri_Group\", \"KPS\", \"Brain\", \"Opioid\", \"M3_Index\"])\n",
    "B_imputed[\"Brain\"] = B_imputed[\"Brain\"].round().astype(int)\n",
    "B_imputed[\"Opioid\"] = B_imputed[\"Opioid\"].round().astype(int)\n",
    "\n",
    "X = B_imputed[[\"B_Index\", \"Katagiri_Group\", \"KPS\", \"Brain\", \"Opioid\"]]\n",
    "y = (B_imputed[\"M3_Index\"] - B_imputed[\"B_Index\"] >= 0.08).astype(int)\n",
    "\n",
    "# Train random forest on imputed data\n",
    "model_B = RandomForestClassifier(random_state=0)\n",
    "\n",
    "B_auc_scores = cross_val_score(model_B, X, y, scoring=auc_scorer, cv=5)\n",
    "B_brier_scores = cross_val_score(model_B, X, y, scoring=brier_scorer, cv=5)\n",
    "model_B.fit(X, y)\n",
    "\n",
    "# Results\n",
    "print(\"B Complete N = \", len(B_imputed))\n",
    "print(\"Feature Importances (Imputed Data):\", model_B.feature_importances_)\n",
    "print(\"Cross-Validated AUC:\", np.mean(B_auc_scores))\n",
    "print(\"Cross-Validated Brier Score:\", -np.mean(B_brier_scores))"
   ]
  },
  {
   "cell_type": "markdown",
   "metadata": {},
   "source": [
    "### Performance on complete 3-months EQ-5D-3L"
   ]
  },
  {
   "cell_type": "code",
   "execution_count": null,
   "metadata": {},
   "outputs": [],
   "source": [
    "# Impute missing values\n",
    "M3_imputed = pd.DataFrame(missforest_imputer.fit_transform(data_M3[[\"B_Index\", \"Katagiri_Group\", \"KPS\", \"Brain\", \"Opioid\", \"M3_Index\"]]), columns=[\"B_Index\", \"Katagiri_Group\", \"KPS\", \"Brain\", \"Opioid\", \"M3_Index\"])\n",
    "M3_imputed[\"Brain\"] = M3_imputed[\"Brain\"].round().astype(int)\n",
    "M3_imputed[\"Opioid\"] = M3_imputed[\"Opioid\"].round().astype(int)\n",
    "\n",
    "X = M3_imputed[[\"B_Index\", \"Katagiri_Group\", \"KPS\", \"Brain\", \"Opioid\"]]\n",
    "y = (M3_imputed[\"M3_Index\"] - M3_imputed[\"B_Index\"] >= 0.08).astype(int)\n",
    "\n",
    "model_M3 = RandomForestClassifier(random_state=0)\n",
    "\n",
    "M3_auc_scores = cross_val_score(model_M3, X, y, scoring=auc_scorer, cv=5)\n",
    "M3_brier_scores = cross_val_score(model_M3, X, y, scoring=brier_scorer, cv=5)\n",
    "model_M3.fit(X, y)\n",
    "\n",
    "# Results\n",
    "print(\"M3 Complete N = \", len(M3_imputed))\n",
    "print(\"Imputed Data Feature Importances:\", model_M3.feature_importances_)\n",
    "print(\"Cross-Validated AUC:\", np.mean(M3_auc_scores))\n",
    "print(\"Cross-Validated Brier Score:\", -np.mean(M3_brier_scores))  "
   ]
  }
 ],
 "metadata": {
  "kernelspec": {
   "display_name": "Python 3",
   "language": "python",
   "name": "python3"
  },
  "language_info": {
   "codemirror_mode": {
    "name": "ipython",
    "version": 3
   },
   "file_extension": ".py",
   "mimetype": "text/x-python",
   "name": "python",
   "nbconvert_exporter": "python",
   "pygments_lexer": "ipython3",
   "version": "3.10.4"
  }
 },
 "nbformat": 4,
 "nbformat_minor": 2
}
